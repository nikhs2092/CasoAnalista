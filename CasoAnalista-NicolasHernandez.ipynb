{
 "cells": [
  {
   "cell_type": "markdown",
   "id": "bb1e5642-4576-4c60-8127-431e7e8e3aff",
   "metadata": {},
   "source": [
    "# Caso Analista"
   ]
  },
  {
   "cell_type": "markdown",
   "id": "a0fe271f-6bd0-4116-bcb5-80878f77bb1f",
   "metadata": {},
   "source": [
    "## Descripción de los datos"
   ]
  },
  {
   "cell_type": "markdown",
   "id": "b584c715-f3d7-455a-8295-6d6a1f715d17",
   "metadata": {},
   "source": [
    "- Hay 6 archivos .csv que contienen información de gestión de 100 clientes.\n",
    "- Cada archivo representa un mes de 2022, comenzando en febrero y terminando en julio.\n",
    "- 5 de estos archivos son datos históricos, de febrero a junio.\n",
    "- Los datos correspondientes a julio son el objetivo principal de modelamiento."
   ]
  },
  {
   "cell_type": "markdown",
   "id": "b1adbea6-5dbf-4ebd-aca2-0b169a9fd2fc",
   "metadata": {},
   "source": [
    "**Nombre Variable** | **Descripción Variable** | **Observaciones** | **Ejemplo**\n",
    "--- | --- | --- | ---\n",
    "Cosecha | Mes de estudio | | 202001\n",
    "IdCliente | Id interno del cliente | | 2222594\n",
    "LoanID | Número Único Obligación Refinancia | Un cliente puede tener varias obligaciones | 4152191\n",
    "SaldoCapital | Saldo del capital de la deuda | | 20.000.000,00 \n",
    "DiasMora | Dias en mora a fecha compra del portafolio | | 498,00 \n",
    "Fechacompra | Fecha de compra del portafolio | formato aaaa-mm-dd | 7/8/2016\n",
    "Ciudad | Ciudad del Cliente | En algunos casos es el municipio | CALI\n",
    "Departamento | Departamento del Cliente | | VALLE DEL CAUCA\n",
    "TipoProducto | Tipo Producto Cliente | Libranza, Reestructurado, Crédito Rotativo, Sobregiro, Crédito Comercial, Tarjeta de Crédito, Hipotecario, Crédito Personal, No definido, Vehiculo, Retail Colombia, Codensa | Sobregiro\n",
    "PagoRealizadosUlt6Meses | Valor del pago del cliente en los últimos seis meses | Enviaremos una columna por cada mes | 100000\n",
    "FechaUltPago | Fecha del Ultimo pago registrado | formato aaaa-mm-dd | 2019-01-01\n",
    "PagosTotales | Pagos hechos en refinancia antes de la cosecha de estudio | | 500000\n",
    "LocalizaciónUlt6Meses | Si el cliente tuvo localización en los últimos 6 meses | 1: Si está localizado 0: De lo contrario | 1\n",
    "AcuerdosUlt6Meses | Si el cliente ha tenido un acuerdo en los últimos seis meses | 1: Si tiene acuerdo 0: De lo contrario | 0\n",
    "AcuerdosUlt3Meses | Si el cliente ha tenido un acuerdo en los últimos tres meses | 1: Si tiene acuerdo 0: De lo contrario | 0\n",
    "Pago (Variable objetivo) | Si el cliente pagó en la cosecha de estudio | 1: Si pago 0: De lo contrario | 0"
   ]
  },
  {
   "cell_type": "markdown",
   "id": "1ae7a8a0-d61f-4e46-9be0-66f5d064a98b",
   "metadata": {},
   "source": [
    "## Objetivo"
   ]
  },
  {
   "cell_type": "markdown",
   "id": "6dadde5d-306e-49b0-b3b6-d828bb50e0f8",
   "metadata": {},
   "source": [
    "¿Cuál es la probabilidad de pago para los 100 clientes durante julio?"
   ]
  },
  {
   "cell_type": "markdown",
   "id": "b523a216-9cc1-4f44-8698-4a510a788057",
   "metadata": {},
   "source": [
    "## Carga de datos"
   ]
  },
  {
   "cell_type": "code",
   "execution_count": 1,
   "id": "e931086b-107c-4639-b1bd-69fb1d6342d1",
   "metadata": {},
   "outputs": [],
   "source": [
    "import pandas as pd\n",
    "import numpy as np\n",
    "import matplotlib.pyplot as plt\n",
    "import seaborn as sns\n",
    "from scipy import stats"
   ]
  },
  {
   "cell_type": "markdown",
   "id": "8384539c-b9d9-40f3-a5bc-4271ec4de2ee",
   "metadata": {
    "tags": []
   },
   "source": [
    "### Datos históricos"
   ]
  },
  {
   "cell_type": "code",
   "execution_count": 2,
   "id": "54e9ca46-5f72-4b65-a0c4-c1e5b1fe33e3",
   "metadata": {},
   "outputs": [],
   "source": [
    "febrero = pd.read_csv('Historicos/Refinancia_202202.csv')\n",
    "febrero.name = \"Febrero\"\n",
    "marzo = pd.read_csv('Historicos/Refinancia_202203.csv')\n",
    "marzo.name = \"Marzo\"\n",
    "abril = pd.read_csv('Historicos/Refinancia_202204.csv')\n",
    "abril.name = \"Abril\"\n",
    "mayo = pd.read_csv('Historicos/Refinancia_202205.csv')\n",
    "mayo.name = \"Mayo\"\n",
    "junio = pd.read_csv('Historicos/Refinancia_202206.csv')\n",
    "junio.name = \"Junio\""
   ]
  },
  {
   "cell_type": "markdown",
   "id": "6f9dc75f-765a-4267-a4a5-0451d03bdb5e",
   "metadata": {},
   "source": [
    "### Datos julio"
   ]
  },
  {
   "cell_type": "code",
   "execution_count": 3,
   "id": "62e64bee-ecc9-4462-8906-39437eb346f4",
   "metadata": {},
   "outputs": [],
   "source": [
    "julio = pd.read_csv('Clientes_a_Calificar.csv')\n",
    "julio.name = \"Julio\""
   ]
  },
  {
   "cell_type": "markdown",
   "id": "c3738973-a083-40cb-b672-10f9dc0130df",
   "metadata": {},
   "source": [
    "## Limpieza de datos"
   ]
  },
  {
   "cell_type": "markdown",
   "id": "f5b34931-3ee0-4d8e-8ffe-b56327f4bbf9",
   "metadata": {},
   "source": [
    "### Encabezado"
   ]
  },
  {
   "cell_type": "markdown",
   "id": "49b9f574-382b-4393-9a79-5241eaaf3a32",
   "metadata": {},
   "source": [
    "#### Datos históricos"
   ]
  },
  {
   "cell_type": "code",
   "execution_count": 4,
   "id": "2a3aa932-50f6-41a4-9da5-101863bef329",
   "metadata": {},
   "outputs": [
    {
     "data": {
      "text/plain": [
       "Index(['Cosecha', 'IdCliente', 'LoanID', 'SaldoCapital', 'DiasMora',\n",
       "       'FechaCompra', 'Ciudad', 'Departamento', 'TipoProducto',\n",
       "       'PagosRealizadoUltMes', 'PagosRealizadoUlt2Meses',\n",
       "       'PagosRealizadoUlt3Meses', 'PagosRealizadoUlt4Meses',\n",
       "       'PagosRealizadoUlt5Meses', 'PagosRealizadoUlt6Meses', 'FechaUltPago',\n",
       "       'PagosTotales', 'LocalizacionUlt6Meses', 'AcuerdosUlt6Meses',\n",
       "       'AcuerdosUlt3Meses', 'SaldoxCliente', 'Fabrica', 'Canal', 'Pago'],\n",
       "      dtype='object')"
      ]
     },
     "execution_count": 4,
     "metadata": {},
     "output_type": "execute_result"
    }
   ],
   "source": [
    "febrero.columns"
   ]
  },
  {
   "cell_type": "code",
   "execution_count": 5,
   "id": "8715b75b-5582-438d-9cba-1fb84f9d0844",
   "metadata": {},
   "outputs": [
    {
     "name": "stdout",
     "output_type": "stream",
     "text": [
      "Febrero-Marzo : True\n",
      "Febrero-Abril : True\n",
      "Febrero-Mayo : True\n",
      "Febrero-Junio : True\n",
      "Marzo-Abril : True\n",
      "Marzo-Mayo : True\n",
      "Marzo-Junio : True\n",
      "Abril-Mayo : True\n",
      "Abril-Junio : True\n",
      "Mayo-Junio : True\n"
     ]
    }
   ],
   "source": [
    "datos_historicos = [febrero, marzo, abril, mayo, junio]\n",
    "\n",
    "from itertools import combinations\n",
    "for i, j in combinations(datos_historicos, 2):\n",
    "    print('-'.join([i.name, j.name]),':',(i.columns).equals(j.columns))"
   ]
  },
  {
   "cell_type": "markdown",
   "id": "f816266e-919d-4c10-a4f2-578168dbc7f6",
   "metadata": {},
   "source": [
    "- Los nombres de las columnas de los datos históricos coinciden con la descripción y son iguales en todos los archivos."
   ]
  },
  {
   "cell_type": "markdown",
   "id": "5c98193d-ceb6-443c-9bec-cbb059c4c129",
   "metadata": {},
   "source": [
    "#### Datos julio"
   ]
  },
  {
   "cell_type": "code",
   "execution_count": 6,
   "id": "f09d2c96-1204-4de3-a026-f3fc673eb10f",
   "metadata": {},
   "outputs": [
    {
     "data": {
      "text/plain": [
       "Index(['Cosecha', 'IdCliente', 'LoanID', 'SaldoCapital', 'DiasMora',\n",
       "       'FechaCompra', 'Ciudad', 'Departamento', 'TipoProducto',\n",
       "       'PagosRealizadoUltMes', 'PagosRealizadoUlt2Meses',\n",
       "       'PagosRealizadoUlt3Meses', 'PagosRealizadoUlt4Meses',\n",
       "       'PagosRealizadoUlt5Meses', 'PagosRealizadoUlt6Meses', 'FechaUltPago',\n",
       "       'PagosTotales', 'LocalizacionUlt6Meses', 'AcuerdosUlt6Meses',\n",
       "       'AcuerdosUlt3Meses', 'SaldoxCliente', 'Fabrica', 'Canal'],\n",
       "      dtype='object')"
      ]
     },
     "execution_count": 6,
     "metadata": {},
     "output_type": "execute_result"
    }
   ],
   "source": [
    "julio.columns"
   ]
  },
  {
   "cell_type": "markdown",
   "id": "f6e14e61-2869-440b-aa2a-010cd8751b7a",
   "metadata": {},
   "source": [
    "- Los nombres de las columnas de los datos de julio coinciden con la descripción."
   ]
  },
  {
   "cell_type": "markdown",
   "id": "5e3ed874-6252-4fd8-9b86-0f8eb3c5556f",
   "metadata": {},
   "source": [
    "### Consolidación de datos históricos en una tabla"
   ]
  },
  {
   "cell_type": "code",
   "execution_count": 7,
   "id": "fd7da877-19da-417f-a4b4-9e2fc55f80bb",
   "metadata": {},
   "outputs": [],
   "source": [
    "historicos = pd.concat(datos_historicos).reset_index(drop=True)"
   ]
  },
  {
   "cell_type": "markdown",
   "id": "9f31ea45-d0bf-44a6-96e0-3241d7bf501f",
   "metadata": {},
   "source": [
    "### Datos faltantes"
   ]
  },
  {
   "cell_type": "markdown",
   "id": "e7a2c232-e8de-4ee6-8884-41a788075415",
   "metadata": {},
   "source": [
    "#### Datos históricos"
   ]
  },
  {
   "cell_type": "markdown",
   "id": "ee50067d-fe97-414c-af20-974eed1545fa",
   "metadata": {},
   "source": [
    "##### Número de filas sólo con valores nulos"
   ]
  },
  {
   "cell_type": "code",
   "execution_count": 8,
   "id": "88be45c0-6f3b-4a8d-9af3-51155d8291e4",
   "metadata": {},
   "outputs": [
    {
     "data": {
      "text/plain": [
       "0"
      ]
     },
     "execution_count": 8,
     "metadata": {},
     "output_type": "execute_result"
    }
   ],
   "source": [
    "null_rows = historicos.isnull().all(axis = 1)\n",
    "sum(null_rows)"
   ]
  },
  {
   "cell_type": "markdown",
   "id": "219cd2ad-e782-4e88-91cd-245df24a13e4",
   "metadata": {},
   "source": [
    "##### Porcentaje de valores nulos por columna"
   ]
  },
  {
   "cell_type": "code",
   "execution_count": 9,
   "id": "ba9fa6fe-b492-4c4e-b1c7-3831c79ff736",
   "metadata": {},
   "outputs": [
    {
     "data": {
      "text/plain": [
       "Cosecha                     0.000000\n",
       "IdCliente                   0.000000\n",
       "LoanID                      0.000000\n",
       "SaldoCapital                0.000000\n",
       "DiasMora                    0.000000\n",
       "FechaCompra                 0.000000\n",
       "Ciudad                      0.000000\n",
       "Departamento                0.000000\n",
       "TipoProducto                0.000000\n",
       "PagosRealizadoUltMes        0.000000\n",
       "PagosRealizadoUlt2Meses     0.000000\n",
       "PagosRealizadoUlt3Meses     0.000000\n",
       "PagosRealizadoUlt4Meses     0.000000\n",
       "PagosRealizadoUlt5Meses     0.000000\n",
       "PagosRealizadoUlt6Meses     0.000000\n",
       "FechaUltPago               98.257141\n",
       "PagosTotales                0.000000\n",
       "LocalizacionUlt6Meses       0.000000\n",
       "AcuerdosUlt6Meses           0.000000\n",
       "AcuerdosUlt3Meses           0.000000\n",
       "SaldoxCliente               0.000000\n",
       "Fabrica                     0.000000\n",
       "Canal                       0.000000\n",
       "Pago                        0.000000\n",
       "dtype: float64"
      ]
     },
     "execution_count": 9,
     "metadata": {},
     "output_type": "execute_result"
    }
   ],
   "source": [
    "historicos.isnull().sum()*(100/historicos.shape[0])"
   ]
  },
  {
   "cell_type": "markdown",
   "id": "0ec7aa67-432e-433f-b718-8bffd2687908",
   "metadata": {},
   "source": [
    "- **FechaUltPago:** \n",
    "    - Es la única variable con valores nulos. Se asume que esto significa que los clientes nunca han pagado.\n",
    "    - 98.25% de valores nulos vuelve esta variable inservible por si sola.\n",
    "    - Las cantidades que se pueden inferir de esta columna ya estan representados por **DiasMora**.\n",
    "    - Esta columna se elimina."
   ]
  },
  {
   "cell_type": "code",
   "execution_count": 10,
   "id": "3049444c-a3ee-490a-ba01-039736392936",
   "metadata": {},
   "outputs": [],
   "source": [
    "historicos.drop(['FechaUltPago'], axis = 1, inplace=True)"
   ]
  },
  {
   "cell_type": "markdown",
   "id": "b4482093-828c-4e7b-a19d-b35d535198c0",
   "metadata": {},
   "source": [
    "#### Datos julio"
   ]
  },
  {
   "cell_type": "markdown",
   "id": "aff8fc9a-aade-4697-83fd-6dfc33c2a3f7",
   "metadata": {},
   "source": [
    "##### Número de filas sólo con valores nulos"
   ]
  },
  {
   "cell_type": "code",
   "execution_count": 11,
   "id": "a6de5a6e-0266-4651-81c8-1999ae7f101e",
   "metadata": {},
   "outputs": [
    {
     "data": {
      "text/plain": [
       "0"
      ]
     },
     "execution_count": 11,
     "metadata": {},
     "output_type": "execute_result"
    }
   ],
   "source": [
    "null_rows = julio.isnull().all(axis = 1)\n",
    "sum(null_rows)"
   ]
  },
  {
   "cell_type": "markdown",
   "id": "5dece6de-e267-428d-9cd4-afc33c32b06f",
   "metadata": {},
   "source": [
    "##### Porcentaje de valores nulos por columna"
   ]
  },
  {
   "cell_type": "code",
   "execution_count": 12,
   "id": "280ae955-bf1b-4511-a3f0-e598ed4ec65b",
   "metadata": {},
   "outputs": [
    {
     "data": {
      "text/plain": [
       "Cosecha                     0.0\n",
       "IdCliente                   0.0\n",
       "LoanID                      0.0\n",
       "SaldoCapital                0.0\n",
       "DiasMora                    0.0\n",
       "FechaCompra                 0.0\n",
       "Ciudad                      0.0\n",
       "Departamento                0.0\n",
       "TipoProducto                0.0\n",
       "PagosRealizadoUltMes        0.0\n",
       "PagosRealizadoUlt2Meses     0.0\n",
       "PagosRealizadoUlt3Meses     0.0\n",
       "PagosRealizadoUlt4Meses     0.0\n",
       "PagosRealizadoUlt5Meses     0.0\n",
       "PagosRealizadoUlt6Meses     0.0\n",
       "FechaUltPago               97.0\n",
       "PagosTotales                0.0\n",
       "LocalizacionUlt6Meses       0.0\n",
       "AcuerdosUlt6Meses           0.0\n",
       "AcuerdosUlt3Meses           0.0\n",
       "SaldoxCliente               0.0\n",
       "Fabrica                     0.0\n",
       "Canal                       0.0\n",
       "dtype: float64"
      ]
     },
     "execution_count": 12,
     "metadata": {},
     "output_type": "execute_result"
    }
   ],
   "source": [
    "julio.isnull().sum()*(100/julio.shape[0])"
   ]
  },
  {
   "cell_type": "markdown",
   "id": "ce36f311-d1e8-4f21-9f2d-e26b46ef89fa",
   "metadata": {},
   "source": [
    "- **FechaUltPago:** \n",
    "    - Es la única variable con valores nulos. Se asume que esto significa que los clientes nunca han pagado.\n",
    "    - 97% de valores nulos vuelve esta variable inservible por si sola.\n",
    "    - Las cantidades que se pueden inferir de esta columna ya estan representados por **DiasMora**.\n",
    "    - Esta columna se elimina."
   ]
  },
  {
   "cell_type": "code",
   "execution_count": 13,
   "id": "82f83dfd-6d2f-4302-a2ce-f6e8004156be",
   "metadata": {},
   "outputs": [],
   "source": [
    "julio.drop(['FechaUltPago'], axis = 1, inplace=True)"
   ]
  },
  {
   "cell_type": "markdown",
   "id": "73a52679-1cd7-4269-aa3b-377cbb5bf94a",
   "metadata": {},
   "source": [
    "### Formato de datos"
   ]
  },
  {
   "cell_type": "markdown",
   "id": "b5e18813-473e-46e3-94dc-fc9cc9ab5401",
   "metadata": {},
   "source": [
    "#### Fechas"
   ]
  },
  {
   "cell_type": "code",
   "execution_count": 14,
   "id": "099562e6-c282-47f3-923e-07de3d5f1bc1",
   "metadata": {},
   "outputs": [],
   "source": [
    "dfs = [historicos, julio]\n",
    "\n",
    "for i in dfs:\n",
    "    i['Cosecha'] = pd.to_datetime(i['Cosecha'], format = '%Y%m')\n",
    "    i['FechaCompra'] = pd.to_datetime(i['FechaCompra'], errors='coerce')"
   ]
  },
  {
   "cell_type": "markdown",
   "id": "abc10d4a-e844-4ed7-abc8-718e5d24d38a",
   "metadata": {},
   "source": [
    "- Las variables **Cosecha** y **FechaCompra** se cambian tipo a *'datetime'*."
   ]
  },
  {
   "cell_type": "markdown",
   "id": "280e891a-da94-4466-8548-e53098db1184",
   "metadata": {},
   "source": [
    "#### Datos nominales"
   ]
  },
  {
   "cell_type": "code",
   "execution_count": 15,
   "id": "2e080736-e4e6-4bca-b593-605642c09742",
   "metadata": {},
   "outputs": [],
   "source": [
    "noms_j = ['IdCliente', 'LoanID', 'Ciudad', 'Departamento', 'TipoProducto', 'LocalizacionUlt6Meses', 'AcuerdosUlt6Meses', 'AcuerdosUlt3Meses', 'Fabrica', 'Canal']\n",
    "noms_h = noms_j.copy()\n",
    "noms_h.append('Pago')"
   ]
  },
  {
   "cell_type": "code",
   "execution_count": 16,
   "id": "836cc348-75f7-4dca-9497-f5f3f8f531aa",
   "metadata": {},
   "outputs": [],
   "source": [
    "for i in noms_h:\n",
    "    historicos[i] = pd.Categorical(historicos[i])\n",
    "    \n",
    "for i in noms_j:\n",
    "    julio[i] = pd.Categorical(julio[i])"
   ]
  },
  {
   "cell_type": "markdown",
   "id": "2e439fb0-322a-40dd-91bb-023780e81ae2",
   "metadata": {},
   "source": [
    "- Se ajustan las columnas nominales a tipo categoría"
   ]
  },
  {
   "cell_type": "markdown",
   "id": "d808159f-af56-4fd9-bd19-7694c77be6f5",
   "metadata": {},
   "source": [
    "#### Datos numéricos"
   ]
  },
  {
   "cell_type": "code",
   "execution_count": 17,
   "id": "49e5275f-9cec-42bc-bf6f-e77e792f42df",
   "metadata": {},
   "outputs": [],
   "source": [
    "for df in dfs:\n",
    "    # int columns downcasting\n",
    "    ints = df.select_dtypes(include=['int']).columns.tolist()\n",
    "    for i in ints:\n",
    "        df[i] = pd.to_numeric(df[i], downcast ='integer')\n",
    "    # float columns downcasting    \n",
    "    floats = df.select_dtypes(include=['float']).columns.tolist()\n",
    "    for f in floats:\n",
    "        df[i] = pd.to_numeric(df[i], downcast ='float')"
   ]
  },
  {
   "cell_type": "markdown",
   "id": "ccfe4510-97d5-437a-90f4-19cf84fdf0c7",
   "metadata": {},
   "source": [
    "- Se hace downcasting a las variables númericas para ahorrar memoria."
   ]
  },
  {
   "cell_type": "markdown",
   "id": "5e6860cf-2308-44b1-b54c-abfa8f15d953",
   "metadata": {},
   "source": [
    "## Breve Análisis Exploratorio"
   ]
  },
  {
   "cell_type": "markdown",
   "id": "028d1b18-9c7a-4790-8369-e791b1e0b56c",
   "metadata": {},
   "source": [
    "### Correlación"
   ]
  },
  {
   "cell_type": "markdown",
   "id": "d895df95-8d20-4528-810b-dedc6856da18",
   "metadata": {},
   "source": [
    "#### Datos históricos"
   ]
  },
  {
   "cell_type": "code",
   "execution_count": 18,
   "id": "8a06bb81-292c-4686-839f-02f5a5041afe",
   "metadata": {},
   "outputs": [
    {
     "data": {
      "text/plain": [
       "<AxesSubplot:>"
      ]
     },
     "execution_count": 18,
     "metadata": {},
     "output_type": "execute_result"
    },
    {
     "data": {
      "image/png": "[encoded data removed]",
      "text/plain": [
       "<Figure size 792x648 with 2 Axes>"
      ]
     },
     "metadata": {
      "needs_background": "light"
     },
     "output_type": "display_data"
    }
   ],
   "source": [
    "corr = historicos.corr()\n",
    "mask = np.triu(np.ones_like(corr, dtype=bool))\n",
    "f, ax = plt.subplots(figsize=(11, 9))\n",
    "sns.heatmap(corr, mask=mask, cmap='Spectral', vmin=-1, vmax=1, annot=True, center=0, square=True, linewidths=.5, cbar_kws={\"shrink\": .5})"
   ]
  },
  {
   "cell_type": "markdown",
   "id": "5b74c981-bdc2-41a0-9c2f-cfdede194eee",
   "metadata": {},
   "source": [
    "#### Datos julio"
   ]
  },
  {
   "cell_type": "code",
   "execution_count": 19,
   "id": "9cf9b2a3-fbc2-4f20-bcb7-3b7f06e23f0e",
   "metadata": {},
   "outputs": [
    {
     "data": {
      "text/plain": [
       "<AxesSubplot:>"
      ]
     },
     "execution_count": 19,
     "metadata": {},
     "output_type": "execute_result"
    },
    {
     "data": {
      "image/png": "[encoded data removed]",
      "text/plain": [
       "<Figure size 792x648 with 2 Axes>"
      ]
     },
     "metadata": {
      "needs_background": "light"
     },
     "output_type": "display_data"
    }
   ],
   "source": [
    "corr = julio.corr()\n",
    "mask = np.triu(np.ones_like(corr, dtype=bool))\n",
    "f, ax = plt.subplots(figsize=(11, 9))\n",
    "sns.heatmap(corr, mask=mask, cmap='Spectral', vmin=-1, vmax=1, annot=True, center=0, square=True, linewidths=.5, cbar_kws={\"shrink\": .5})"
   ]
  },
  {
   "cell_type": "markdown",
   "id": "cc14c446-1a44-4de7-9af9-b97324a09dde",
   "metadata": {},
   "source": [
    "- Ninguna correlación es suficientemente alta para justificar una modificación a los datos."
   ]
  },
  {
   "cell_type": "markdown",
   "id": "7ac42410-70f1-46d6-872b-91060bd97426",
   "metadata": {},
   "source": [
    "### Distribución variable objetivo **Pago**"
   ]
  },
  {
   "cell_type": "code",
   "execution_count": 20,
   "id": "4f3e41ce-eba5-4597-9833-859986b94a0b",
   "metadata": {},
   "outputs": [
    {
     "data": {
      "text/plain": [
       "<seaborn.axisgrid.FacetGrid at 0x1cb9e9ed730>"
      ]
     },
     "execution_count": 20,
     "metadata": {},
     "output_type": "execute_result"
    },
    {
     "data": {
      "image/png": "[encoded data removed]",
      "text/plain": [
       "<Figure size 360x360 with 1 Axes>"
      ]
     },
     "metadata": {
      "needs_background": "light"
     },
     "output_type": "display_data"
    }
   ],
   "source": [
    "plot_data = pd.DataFrame(historicos['Pago'].value_counts()).rename(index={0:'No pago', 1:'Pago'}).reset_index().rename(columns={'index':'Estado de pago', 'Pago':'Cantidad'})\n",
    "sns.catplot(data=plot_data, x=\"Estado de pago\", y=\"Cantidad\", kind=\"bar\")"
   ]
  },
  {
   "cell_type": "markdown",
   "id": "0264db4f-3164-463d-ace7-026ad135f00d",
   "metadata": {},
   "source": [
    "- La variable objetivo en los datos históricos esta imbalanceada."
   ]
  },
  {
   "cell_type": "markdown",
   "id": "23384f05-ef10-472a-a107-d31de37ec164",
   "metadata": {},
   "source": [
    "## Transformación de Variables"
   ]
  },
  {
   "cell_type": "markdown",
   "id": "1ecaf19d-b21d-42d3-b936-e4dfd23bc27f",
   "metadata": {},
   "source": [
    "- Las variables de fecha: **Cosecha** y **FechaCompra** no contribuyen mucha información por si solas porque no forman un a serie de timepo, ya sea por la poca cantidad de valores únicos y/o porque no son consecutivas.\n",
    "- Sin embargo, se puede extraer información al calcular la diferencia en días entre las dos.\n",
    "- Se eliminan las columnas **Cosecha** y **FechaCompra** y se crea la nueva variable **deltaCosechaFechaCompra** que representa el calculo anteriormente mencionadp. "
   ]
  },
  {
   "cell_type": "code",
   "execution_count": 21,
   "id": "631f1388-ccdf-42c1-a51d-29a52e2d7d03",
   "metadata": {},
   "outputs": [],
   "source": [
    "days_h = pd.to_numeric((historicos['Cosecha'] - historicos['FechaCompra']).dt.days, downcast='integer')\n",
    "historicos.insert(0, 'deltaCosechaFechaCompra', days_h)\n",
    "historicos.drop(['Cosecha', 'FechaCompra'], axis=1, inplace=True)"
   ]
  },
  {
   "cell_type": "code",
   "execution_count": 22,
   "id": "408ab15c-97b8-4b2e-aa02-e95b138990e0",
   "metadata": {},
   "outputs": [],
   "source": [
    "days_j = pd.to_numeric((julio['Cosecha'] - julio['FechaCompra']).dt.days, downcast='integer')\n",
    "julio.insert(0, 'deltaCosechaFechaCompra', days_j)\n",
    "julio.drop(['Cosecha', 'FechaCompra'], axis=1, inplace=True)"
   ]
  },
  {
   "cell_type": "markdown",
   "id": "46245694-546a-406c-8494-50d46ab11548",
   "metadata": {},
   "source": [
    "## Modelamiento"
   ]
  },
  {
   "cell_type": "markdown",
   "id": "e4ab61f2-7d4a-4982-a8e1-0104045e6caf",
   "metadata": {},
   "source": [
    "### Preprocesamiento"
   ]
  },
  {
   "cell_type": "markdown",
   "id": "cb262391-c132-4f89-9c6c-464ebcbc9486",
   "metadata": {},
   "source": [
    "***"
   ]
  },
  {
   "cell_type": "code",
   "execution_count": 23,
   "id": "4eac1aca-f6f4-43dd-8f87-57d47d5b9e40",
   "metadata": {},
   "outputs": [],
   "source": [
    "from sklearn.preprocessing import LabelEncoder"
   ]
  },
  {
   "cell_type": "code",
   "execution_count": 24,
   "id": "8cc89c54-5587-4a7f-b59b-c1ec30ab93dd",
   "metadata": {},
   "outputs": [],
   "source": [
    "text = ['Ciudad', 'Departamento', 'TipoProducto', 'Fabrica', 'Canal']\n",
    "le = LabelEncoder()\n",
    "encoders = {}"
   ]
  },
  {
   "cell_type": "code",
   "execution_count": 25,
   "id": "4fe22904-5d8b-45e7-8d80-7655fdebd528",
   "metadata": {},
   "outputs": [],
   "source": [
    "for i in text:\n",
    "    le.fit(historicos[i])\n",
    "    encoders[i] = le\n",
    "    x = le.transform(historicos[i])\n",
    "    historicos[i] = pd.Categorical(x)\n",
    "    z = le.transform(julio[i])\n",
    "    julio[i] = pd.Categorical(z)    "
   ]
  },
  {
   "cell_type": "markdown",
   "id": "459c13cd-29a1-4d1e-92e5-0f3fee9a1158",
   "metadata": {},
   "source": [
    "***"
   ]
  },
  {
   "cell_type": "code",
   "execution_count": 26,
   "id": "3e340665-9165-4c71-9226-d38df483cc36",
   "metadata": {
    "tags": [
     "remove-input"
    ]
   },
   "outputs": [],
   "source": [
    "from sklearn.model_selection import train_test_split"
   ]
  },
  {
   "cell_type": "code",
   "execution_count": 27,
   "id": "d4ccff73-9b45-46f8-9b1a-ee933cb6751e",
   "metadata": {},
   "outputs": [],
   "source": [
    "model_data = historicos.copy()\n",
    "X = model_data.loc[:, model_data.columns != 'Pago']\n",
    "y = model_data.loc[:, ['Pago']]"
   ]
  },
  {
   "cell_type": "code",
   "execution_count": 28,
   "id": "6887661e-fb90-4fdb-b4d1-5b96e7cffe3c",
   "metadata": {},
   "outputs": [],
   "source": [
    "X_train, X_test, y_train, y_test = train_test_split(X, y, test_size=0.3, random_state=20, stratify = y)\n",
    "y_train, y_test = np.ravel(y_train), np.ravel(y_test)"
   ]
  },
  {
   "cell_type": "markdown",
   "id": "90e5a20a-191e-4929-975a-061fdc539ff2",
   "metadata": {},
   "source": [
    "***"
   ]
  },
  {
   "cell_type": "code",
   "execution_count": 29,
   "id": "db06dc2c-eb82-4ce6-960f-1b6247bbbe1e",
   "metadata": {},
   "outputs": [],
   "source": [
    "from sklearn.preprocessing import StandardScaler"
   ]
  },
  {
   "cell_type": "code",
   "execution_count": 30,
   "id": "5f844d46-3557-4e8c-881c-aa26b4b6ed52",
   "metadata": {},
   "outputs": [],
   "source": [
    "floats = X.select_dtypes(include=['float']).columns.tolist()\n",
    "scaler = StandardScaler()\n",
    "\n",
    "Xf_train_scaled, Xf_test_scaled = scaler.fit_transform(X_train[floats]), scaler.fit_transform(X_test[floats])"
   ]
  },
  {
   "cell_type": "code",
   "execution_count": 31,
   "id": "6024da6f-10db-49f5-9d97-4bd0cf9c8cc6",
   "metadata": {},
   "outputs": [],
   "source": [
    "non_num = X.select_dtypes(exclude=['float']).columns.tolist()\n",
    "\n",
    "Xfs_train = pd.DataFrame(Xf_train_scaled, index=X_train.index, columns=floats)\n",
    "Xfs_test = pd.DataFrame(Xf_test_scaled, index=X_test.index, columns=floats)"
   ]
  },
  {
   "cell_type": "code",
   "execution_count": 32,
   "id": "5b9586d1-9242-4384-892f-443213a76b33",
   "metadata": {},
   "outputs": [],
   "source": [
    "Xs_train = Xfs_train.join(X_train[non_num])\n",
    "Xs_test = Xfs_test.join(X_test[non_num])"
   ]
  },
  {
   "cell_type": "markdown",
   "id": "b538f35b-ffc4-40ee-8c1e-9eb5157dfc17",
   "metadata": {},
   "source": [
    "***"
   ]
  },
  {
   "cell_type": "code",
   "execution_count": 33,
   "id": "cc0fe3f8-483b-46e7-8010-e44f7bded8d0",
   "metadata": {},
   "outputs": [],
   "source": [
    "from imblearn.over_sampling import RandomOverSampler"
   ]
  },
  {
   "cell_type": "code",
   "execution_count": 34,
   "id": "e4a5edb2-8e56-4cf5-b9d1-dd9384665052",
   "metadata": {},
   "outputs": [],
   "source": [
    "sampling_strategy = 1\n",
    "\n",
    "ros = RandomOverSampler(sampling_strategy=sampling_strategy)\n",
    "X_train_final, y_train_final = ros.fit_resample(Xs_train, y_train)"
   ]
  },
  {
   "cell_type": "markdown",
   "id": "66028f74-b03c-48e9-92c3-3c03039661a5",
   "metadata": {},
   "source": [
    "### Linear SVC"
   ]
  },
  {
   "cell_type": "code",
   "execution_count": 35,
   "id": "fb0bd148-8415-4925-922a-bb6f4ed53b03",
   "metadata": {},
   "outputs": [],
   "source": [
    "from sklearn.svm import LinearSVC\n",
    "from sklearn.model_selection import GridSearchCV"
   ]
  },
  {
   "cell_type": "code",
   "execution_count": 36,
   "id": "eae9604e-8a70-41dd-8868-f4bb4729f437",
   "metadata": {},
   "outputs": [],
   "source": [
    "LSCV_parameters = {'C':[0.1,1,10], 'dual':[False]}\n",
    "LSVC = LinearSVC()"
   ]
  },
  {
   "cell_type": "code",
   "execution_count": 37,
   "id": "0dd28072-7ab2-4d0c-8b1d-8f55e8febe7c",
   "metadata": {},
   "outputs": [
    {
     "name": "stdout",
     "output_type": "stream",
     "text": [
      "Best parameters {'C': 0.1, 'dual': False}\n"
     ]
    }
   ],
   "source": [
    "LSVC_cv = GridSearchCV(LSVC, LSCV_parameters, cv = 3, scoring='f1')\n",
    "LSVC_cv.fit(X_train_final, y_train_final)\n",
    "print('Best parameters', LSVC_cv.best_params_)"
   ]
  },
  {
   "cell_type": "code",
   "execution_count": 38,
   "id": "31a58e2d-6f2f-497d-9960-539ebd064538",
   "metadata": {},
   "outputs": [],
   "source": [
    "LSVC_model = LinearSVC(C=0.1, dual=False)\n",
    "LSVC_model.fit(X_train_final, y_train_final)\n",
    "LSVC_pred = LSVC_model.predict(Xs_test)"
   ]
  },
  {
   "cell_type": "markdown",
   "id": "7157277a-fa9e-4773-9e10-aafc36bf8619",
   "metadata": {
    "tags": []
   },
   "source": [
    "### K Nearest Neighbors"
   ]
  },
  {
   "cell_type": "code",
   "execution_count": 39,
   "id": "d2df0141-4419-49cb-82cc-2f1f572cebc3",
   "metadata": {
    "tags": []
   },
   "outputs": [],
   "source": [
    "from sklearn.neighbors import KNeighborsClassifier"
   ]
  },
  {
   "cell_type": "code",
   "execution_count": 40,
   "id": "7af7b74d-d4f8-4534-abb5-548ac2758d5a",
   "metadata": {},
   "outputs": [],
   "source": [
    "KNN_model = KNeighborsClassifier()\n",
    "KNN_model.fit(X_train_final, y_train_final)\n",
    "KNN_pred = KNN_model.predict(Xs_test)"
   ]
  },
  {
   "cell_type": "markdown",
   "id": "b3060818-e62a-4f73-bd77-40833ce07897",
   "metadata": {},
   "source": [
    "### Logistic Regression"
   ]
  },
  {
   "cell_type": "code",
   "execution_count": 41,
   "id": "c2eed4c5-3c0f-463e-8cd3-acfef4c88cb0",
   "metadata": {},
   "outputs": [],
   "source": [
    "from sklearn.linear_model import LogisticRegression"
   ]
  },
  {
   "cell_type": "code",
   "execution_count": 42,
   "id": "9a66df5e-c70a-4132-b505-b5c3135d00d8",
   "metadata": {
    "tags": []
   },
   "outputs": [],
   "source": [
    "parameters ={'C':[0.1,1,10], 'solver':['liblinear', 'lbfgs'], 'max_iter':[1000]}\n",
    "LR = LogisticRegression()"
   ]
  },
  {
   "cell_type": "code",
   "execution_count": 43,
   "id": "7270cc8d-c733-4f37-ae53-9c263fff3c07",
   "metadata": {},
   "outputs": [
    {
     "name": "stdout",
     "output_type": "stream",
     "text": [
      "Best parameters {'C': 0.1, 'max_iter': 1000, 'solver': 'liblinear'}\n"
     ]
    }
   ],
   "source": [
    "LR_cv = GridSearchCV(LR, parameters, cv = 3, scoring='f1')\n",
    "LR_cv.fit(X_train_final, y_train_final)\n",
    "print('Best parameters', LR_cv.best_params_)"
   ]
  },
  {
   "cell_type": "code",
   "execution_count": 44,
   "id": "b0d8e4d3-ad0d-453c-b4d0-72bae0c07538",
   "metadata": {},
   "outputs": [],
   "source": [
    "LR_model = LogisticRegression(C=0.1, max_iter=1000, solver='liblinear')\n",
    "LR_model.fit(X_train_final, y_train_final)\n",
    "LR_pred = LR_model.predict(Xs_test)"
   ]
  },
  {
   "cell_type": "markdown",
   "id": "57c63e0f-8c97-4c59-b46f-ec8ac1269e36",
   "metadata": {},
   "source": [
    "### Random Forest"
   ]
  },
  {
   "cell_type": "code",
   "execution_count": 45,
   "id": "5723ca47-a1cb-48dc-b3f2-16632d252d9d",
   "metadata": {},
   "outputs": [],
   "source": [
    "from sklearn.ensemble import RandomForestClassifier"
   ]
  },
  {
   "cell_type": "code",
   "execution_count": 50,
   "id": "a902b081-cdc4-4c55-b385-6dae94474793",
   "metadata": {},
   "outputs": [],
   "source": [
    "max_features = round(np.sqrt(X.shape[1]))-1\n",
    "RF_model = RandomForestClassifier(max_features=max_features, random_state=0)\n",
    "RF_model.fit(X_train_final, y_train_final)\n",
    "RF_pred = RF_model.predict(Xs_test)"
   ]
  },
  {
   "cell_type": "markdown",
   "id": "3f105e3f-a3e4-4d0e-aea4-69021dcded5e",
   "metadata": {},
   "source": [
    "### Metricas"
   ]
  },
  {
   "cell_type": "code",
   "execution_count": 51,
   "id": "a4eb46d5-d5a0-4fe2-84ac-8fe5f99c903f",
   "metadata": {},
   "outputs": [],
   "source": [
    "from sklearn.metrics import confusion_matrix, classification_report, roc_auc_score"
   ]
  },
  {
   "cell_type": "code",
   "execution_count": 54,
   "id": "b4ddf7a4-61d7-441b-8144-8f7cdf9f680e",
   "metadata": {},
   "outputs": [],
   "source": [
    "LSVC_cr = classification_report(y_test, LSVC_pred, target_names=LSVC_model.classes_, output_dict =True)\n",
    "KNN_cr = classification_report(y_test, KNN_pred, target_names=KNN_model.classes_, output_dict =True)\n",
    "LR_cr = classification_report(y_test, LR_pred, target_names=LR_model.classes_, output_dict =True)\n",
    "RF_cr = classification_report(y_test, RF_pred, target_names=RF_model.classes_, output_dict =True)"
   ]
  },
  {
   "cell_type": "code",
   "execution_count": 63,
   "id": "33ddfa43-29d2-4f92-ba63-e3b04b07a164",
   "metadata": {},
   "outputs": [],
   "source": [
    "reports = [LSVC_cr, KNN_cr, LR_cr, RF_cr]\n",
    "columns = []\n",
    "\n",
    "for i in reports:\n",
    "    x = pd.DataFrame(i).loc[['precision', 'recall', 'f1-score'],'weighted avg']\n",
    "    columns.append(x)"
   ]
  },
  {
   "cell_type": "code",
   "execution_count": 78,
   "id": "0d723465-2658-4a3f-b4a2-75aacc4e18e2",
   "metadata": {},
   "outputs": [],
   "source": [
    "names = ['Linear SVC', 'KNN', 'Logistic Regression', 'Random Forest']\n",
    "df_dict = {i:j for i, j in zip(names, columns)}"
   ]
  },
  {
   "cell_type": "code",
   "execution_count": 69,
   "id": "c558e318-a206-43ea-88d9-75e7600b6f3e",
   "metadata": {},
   "outputs": [],
   "source": [
    "LSVC_pred_prob = LSVC_model.decision_function(Xs_test)\n",
    "LSVC_roc = roc_auc_score(y_test, LSVC_pred_prob)\n",
    "\n",
    "KNN_pred_prob = KNN_model.predict_proba(Xs_test)\n",
    "KNN_roc = roc_auc_score(y_test, KNN_pred_prob[:,1])\n",
    "\n",
    "LR_pred_prob = LR_model.predict_proba(Xs_test)\n",
    "LR_roc = roc_auc_score(y_test, LR_pred_prob[:,1])\n",
    "\n",
    "RF_pred_prob = RF_model.predict_proba(Xs_test)\n",
    "RF_roc = roc_auc_score(y_test, RF_pred_prob[:,1])"
   ]
  },
  {
   "cell_type": "code",
   "execution_count": 93,
   "id": "36cfdaff-71a9-4cfe-9f39-41fe043c0031",
   "metadata": {},
   "outputs": [],
   "source": [
    "aucs = [LSVC_roc, KNN_roc, LR_roc, RF_roc]\n",
    "\n",
    "for i, j in zip(df_dict, aucs):\n",
    "    df_dict[i] = pd.concat([df_dict[i], pd.Series(j, index=['area under curve'])])"
   ]
  },
  {
   "cell_type": "code",
   "execution_count": 95,
   "id": "6859f473-272a-4b3f-a53b-f1f2f6764e7c",
   "metadata": {},
   "outputs": [
    {
     "data": {
      "text/html": [
       "<div>\n",
       "<style scoped>\n",
       "    .dataframe tbody tr th:only-of-type {\n",
       "        vertical-align: middle;\n",
       "    }\n",
       "\n",
       "    .dataframe tbody tr th {\n",
       "        vertical-align: top;\n",
       "    }\n",
       "\n",
       "    .dataframe thead th {\n",
       "        text-align: right;\n",
       "    }\n",
       "</style>\n",
       "<table border=\"1\" class=\"dataframe\">\n",
       "  <thead>\n",
       "    <tr style=\"text-align: right;\">\n",
       "      <th></th>\n",
       "      <th>Linear SVC</th>\n",
       "      <th>KNN</th>\n",
       "      <th>Logistic Regression</th>\n",
       "      <th>Random Forest</th>\n",
       "    </tr>\n",
       "  </thead>\n",
       "  <tbody>\n",
       "    <tr>\n",
       "      <th>precision</th>\n",
       "      <td>0.991622</td>\n",
       "      <td>0.992055</td>\n",
       "      <td>0.991628</td>\n",
       "      <td>0.994237</td>\n",
       "    </tr>\n",
       "    <tr>\n",
       "      <th>recall</th>\n",
       "      <td>0.569829</td>\n",
       "      <td>0.986529</td>\n",
       "      <td>0.570009</td>\n",
       "      <td>0.995410</td>\n",
       "    </tr>\n",
       "    <tr>\n",
       "      <th>f1-score</th>\n",
       "      <td>0.721228</td>\n",
       "      <td>0.989111</td>\n",
       "      <td>0.721374</td>\n",
       "      <td>0.994175</td>\n",
       "    </tr>\n",
       "    <tr>\n",
       "      <th>area under curve</th>\n",
       "      <td>0.641359</td>\n",
       "      <td>0.655747</td>\n",
       "      <td>0.641438</td>\n",
       "      <td>0.866459</td>\n",
       "    </tr>\n",
       "  </tbody>\n",
       "</table>\n",
       "</div>"
      ],
      "text/plain": [
       "                  Linear SVC       KNN  Logistic Regression  Random Forest\n",
       "precision           0.991622  0.992055             0.991628       0.994237\n",
       "recall              0.569829  0.986529             0.570009       0.995410\n",
       "f1-score            0.721228  0.989111             0.721374       0.994175\n",
       "area under curve    0.641359  0.655747             0.641438       0.866459"
      ]
     },
     "execution_count": 95,
     "metadata": {},
     "output_type": "execute_result"
    }
   ],
   "source": [
    "df_cr = pd.DataFrame(df_dict)\n",
    "df_cr"
   ]
  },
  {
   "cell_type": "markdown",
   "id": "c00a0b7b-502c-4029-8057-4d49b84c2cc5",
   "metadata": {},
   "source": [
    "- Se escoge el modelo de Random Forest para evaluar los datos del mes de julio porque presenta los mejores resultados en todas las categorías."
   ]
  },
  {
   "cell_type": "markdown",
   "id": "18ae1786-03c6-4444-8e03-0714dab44918",
   "metadata": {
    "tags": []
   },
   "source": [
    "## Evaluación"
   ]
  },
  {
   "cell_type": "markdown",
   "id": "95fb999c-fe4d-45b1-b0a9-0212da86840e",
   "metadata": {},
   "source": [
    "### Preprocesamiento"
   ]
  },
  {
   "cell_type": "code",
   "execution_count": 115,
   "id": "aafd6539-56dc-4204-b28e-ef0ad72a9a04",
   "metadata": {},
   "outputs": [],
   "source": [
    "scaler = StandardScaler()\n",
    "\n",
    "Xf_scaled_julio = scaler.fit_transform(julio[floats])"
   ]
  },
  {
   "cell_type": "code",
   "execution_count": 116,
   "id": "69815ffa-57a8-41ea-9d80-face1afdaf3e",
   "metadata": {},
   "outputs": [],
   "source": [
    "Xfs_julio = pd.DataFrame(Xf_scaled_julio, index=julio.index, columns=floats)\n",
    "Xs_julio = Xfs_julio.join(julio[non_num])"
   ]
  },
  {
   "cell_type": "markdown",
   "id": "451486aa-0e73-4676-ae58-6faf3160b598",
   "metadata": {},
   "source": [
    "### Random Forest"
   ]
  },
  {
   "cell_type": "code",
   "execution_count": 117,
   "id": "3ce84c7b-4b78-4be3-9c96-b00d580b2e8b",
   "metadata": {},
   "outputs": [],
   "source": [
    "julio_pred = RF_model.predict(Xs_julio)\n",
    "julio_pred_prob = RF_model.predict_proba(Xs_julio)"
   ]
  },
  {
   "cell_type": "markdown",
   "id": "0d577ec9-c2c5-4c8c-8c06-5719f381c98c",
   "metadata": {},
   "source": [
    "### Probabilidades"
   ]
  },
  {
   "cell_type": "code",
   "execution_count": 131,
   "id": "b171d743-92d8-4b92-9d25-3f5b59bbc1ae",
   "metadata": {},
   "outputs": [
    {
     "data": {
      "text/html": [
       "<div>\n",
       "<style scoped>\n",
       "    .dataframe tbody tr th:only-of-type {\n",
       "        vertical-align: middle;\n",
       "    }\n",
       "\n",
       "    .dataframe tbody tr th {\n",
       "        vertical-align: top;\n",
       "    }\n",
       "\n",
       "    .dataframe thead th {\n",
       "        text-align: right;\n",
       "    }\n",
       "</style>\n",
       "<table border=\"1\" class=\"dataframe\">\n",
       "  <thead>\n",
       "    <tr style=\"text-align: right;\">\n",
       "      <th></th>\n",
       "      <th>ProbabilidadPago</th>\n",
       "    </tr>\n",
       "    <tr>\n",
       "      <th>IdCliente</th>\n",
       "      <th></th>\n",
       "    </tr>\n",
       "  </thead>\n",
       "  <tbody>\n",
       "    <tr>\n",
       "      <th>2187392</th>\n",
       "      <td>0.44</td>\n",
       "    </tr>\n",
       "    <tr>\n",
       "      <th>2858489</th>\n",
       "      <td>0.05</td>\n",
       "    </tr>\n",
       "    <tr>\n",
       "      <th>3664705</th>\n",
       "      <td>0.05</td>\n",
       "    </tr>\n",
       "    <tr>\n",
       "      <th>1931681</th>\n",
       "      <td>0.04</td>\n",
       "    </tr>\n",
       "    <tr>\n",
       "      <th>3093657</th>\n",
       "      <td>0.04</td>\n",
       "    </tr>\n",
       "    <tr>\n",
       "      <th>...</th>\n",
       "      <td>...</td>\n",
       "    </tr>\n",
       "    <tr>\n",
       "      <th>3437623</th>\n",
       "      <td>0.00</td>\n",
       "    </tr>\n",
       "    <tr>\n",
       "      <th>4828</th>\n",
       "      <td>0.00</td>\n",
       "    </tr>\n",
       "    <tr>\n",
       "      <th>3629794</th>\n",
       "      <td>0.00</td>\n",
       "    </tr>\n",
       "    <tr>\n",
       "      <th>2557148</th>\n",
       "      <td>0.00</td>\n",
       "    </tr>\n",
       "    <tr>\n",
       "      <th>3637137</th>\n",
       "      <td>0.00</td>\n",
       "    </tr>\n",
       "  </tbody>\n",
       "</table>\n",
       "<p>100 rows × 1 columns</p>\n",
       "</div>"
      ],
      "text/plain": [
       "           ProbabilidadPago\n",
       "IdCliente                  \n",
       "2187392                0.44\n",
       "2858489                0.05\n",
       "3664705                0.05\n",
       "1931681                0.04\n",
       "3093657                0.04\n",
       "...                     ...\n",
       "3437623                0.00\n",
       "4828                   0.00\n",
       "3629794                0.00\n",
       "2557148                0.00\n",
       "3637137                0.00\n",
       "\n",
       "[100 rows x 1 columns]"
      ]
     },
     "execution_count": 131,
     "metadata": {},
     "output_type": "execute_result"
    }
   ],
   "source": [
    "df_julio_prob = pd.DataFrame(data=julio_pred_prob[:,1], columns=['ProbabilidadPago'], index=julio['IdCliente'])\n",
    "df_julio_prob.sort_values(by='ProbabilidadPago', ascending=False)"
   ]
  },
  {
   "cell_type": "markdown",
   "id": "6206f177-493f-402e-ad10-ddacb28dfb7e",
   "metadata": {
    "tags": []
   },
   "source": [
    "## Autor"
   ]
  },
  {
   "cell_type": "markdown",
   "id": "27c1c50d-4289-4d81-8422-9b227c58c4a9",
   "metadata": {},
   "source": [
    "Nicolás Hernández Saboya  \n",
    "nikhs2092@gmail.com  \n",
    "[LinkedIn](https://www.linkedin.com/in/nicolas-hernandez-data-science/)"
   ]
  }
 ],
 "metadata": {
  "kernelspec": {
   "display_name": "Python 3 (ipykernel)",
   "language": "python",
   "name": "python3"
  },
  "language_info": {
   "codemirror_mode": {
    "name": "ipython",
    "version": 3
   },
   "file_extension": ".py",
   "mimetype": "text/x-python",
   "name": "python",
   "nbconvert_exporter": "python",
   "pygments_lexer": "ipython3",
   "version": "3.9.13"
  }
 },
 "nbformat": 4,
 "nbformat_minor": 5
}
